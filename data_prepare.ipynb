{
 "cells": [
  {
   "cell_type": "code",
   "execution_count": 1,
   "metadata": {},
   "outputs": [],
   "source": [
    "# import required libraries\n",
    "import pandas as pd"
   ]
  },
  {
   "cell_type": "code",
   "execution_count": 2,
   "metadata": {},
   "outputs": [
    {
     "name": "stdout",
     "output_type": "stream",
     "text": [
      "           Date     Price      Open      High       Low   Vol. Change %\n",
      "0  Jan 31, 2022  2,003.20  2,004.29  2,009.39  1,992.66  2.31B    1.01%\n",
      "1  Jan 28, 2022  1,983.18  2,006.79  2,019.43  1,976.68  2.83B   -0.73%\n"
     ]
    }
   ],
   "source": [
    "# uploading test price data\n",
    "df = pd.read_csv(\"data/bist_100.csv\")\n",
    "print(df.head(2))"
   ]
  },
  {
   "cell_type": "code",
   "execution_count": 3,
   "metadata": {},
   "outputs": [
    {
     "name": "stdout",
     "output_type": "stream",
     "text": [
      "           date     close      open      high       low volume Change %\n",
      "0  Jan 31, 2022  2,003.20  2,004.29  2,009.39  1,992.66  2.31B    1.01%\n",
      "1  Jan 28, 2022  1,983.18  2,006.79  2,019.43  1,976.68  2.83B   -0.73%\n"
     ]
    }
   ],
   "source": [
    "# rename columns\n",
    "columns = {\"Date\":\"date\", \"Price\":\"close\", \"Open\":\"open\", \"High\":\"high\", \"Low\":\"low\",  \"Vol.\":\"volume\"}\n",
    "for i in columns.keys():\n",
    "    df = df.rename(columns= {i:columns[i]})\n",
    "print(df.head(2))"
   ]
  },
  {
   "cell_type": "code",
   "execution_count": 4,
   "metadata": {},
   "outputs": [
    {
     "name": "stdout",
     "output_type": "stream",
     "text": [
      "              close     open     high      low        volume  Change %\n",
      "date                                                                  \n",
      "2022-01-31  2003.20  2004.29  2009.39  1992.66  2.310000e+10      1.01\n",
      "2022-01-28  1983.18  2006.79  2019.43  1976.68  2.830000e+10     -0.73\n"
     ]
    }
   ],
   "source": [
    "# string to datetime\n",
    "df[\"date\"] = pd.to_datetime(df.date)\n",
    "\n",
    "# string to numeric\n",
    "df[\"close\"]  = pd.to_numeric(df[\"close\"].replace(\",\", \"\", regex=True))\n",
    "df[\"open\"]   = pd.to_numeric(df[\"open\"].replace(\",\", \"\", regex=True))\n",
    "df[\"high\"]   = pd.to_numeric(df[\"high\"].replace(\",\", \"\", regex=True))\n",
    "df[\"low\"]    = pd.to_numeric(df[\"low\"].replace(\",\", \"\", regex=True))\n",
    "d = {'M': '*0.001', 'B': ''}\n",
    "df[\"volume\"] = df[\"volume\"].replace(d, regex=True).map(pd.eval)\n",
    "df[\"volume\"] = df[\"volume\"].mul(10e9)\n",
    "df[\"Change %\"] = pd.to_numeric(df[\"Change %\"].replace(\"%\", \"\", regex=True))\n",
    "\n",
    "# make date column an index\n",
    "df = df.set_index(\"date\")\n",
    "print(df.head(2))"
   ]
  },
  {
   "cell_type": "code",
   "execution_count": 5,
   "metadata": {},
   "outputs": [],
   "source": [
    "# record dataframe\n",
    "df.to_csv(\"data/bist100.csv\")"
   ]
  }
 ],
 "metadata": {
  "kernelspec": {
   "display_name": "Python 3",
   "language": "python",
   "name": "python3"
  },
  "language_info": {
   "codemirror_mode": {
    "name": "ipython",
    "version": 3
   },
   "file_extension": ".py",
   "mimetype": "text/x-python",
   "name": "python",
   "nbconvert_exporter": "python",
   "pygments_lexer": "ipython3",
   "version": "3.8.5"
  }
 },
 "nbformat": 4,
 "nbformat_minor": 4
}
