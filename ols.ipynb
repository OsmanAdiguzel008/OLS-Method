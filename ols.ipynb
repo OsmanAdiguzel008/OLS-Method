{
 "cells": [
  {
   "cell_type": "code",
   "execution_count": 1,
   "metadata": {},
   "outputs": [],
   "source": [
    "# importing required modules\n",
    "import pandas as pd\n",
    "import numpy as np\n",
    "import statsmodels.api as sm"
   ]
  },
  {
   "cell_type": "code",
   "execution_count": 2,
   "metadata": {},
   "outputs": [
    {
     "name": "stdout",
     "output_type": "stream",
     "text": [
      "              close     open     high      low        volume  Change %\n",
      "date                                                                  \n",
      "2022-01-31  2003.20  2004.29  2009.39  1992.66  2.310000e+10      1.01\n",
      "2022-01-28  1983.18  2006.79  2019.43  1976.68  2.830000e+10     -0.73\n",
      "2022-01-27  1997.69  1920.21  1997.69  1913.54  2.540000e+10      2.38\n",
      "2022-01-26  1951.17  1951.17  1975.25  1945.97  2.140000e+10      0.31\n",
      "2022-01-25  1945.07  1927.82  1953.33  1880.18  2.650000e+10      1.82\n",
      "...             ...      ...      ...      ...           ...       ...\n",
      "2020-01-08  1128.76  1109.61  1133.42  1107.46  2.330000e+10      0.25\n",
      "2020-01-07  1126.00  1125.94  1133.87  1123.48  1.780000e+10      1.07\n",
      "2020-01-06  1114.13  1125.32  1129.73  1112.12  2.040000e+10     -2.00\n",
      "2020-01-03  1136.84  1151.43  1155.71  1126.17  2.930000e+10     -1.94\n",
      "2020-01-02  1159.32  1149.03  1159.32  1145.66  2.410000e+10      1.32\n",
      "\n",
      "[522 rows x 6 columns]\n"
     ]
    }
   ],
   "source": [
    "# uploading bist100 price data (2 years daily price data)\n",
    "data = pd.read_csv(\"data/bist100.csv\", index_col=\"date\")\n",
    "print(data)"
   ]
  },
  {
   "cell_type": "code",
   "execution_count": 3,
   "metadata": {},
   "outputs": [
    {
     "name": "stdout",
     "output_type": "stream",
     "text": [
      "y: [ 1.01 -0.73  2.38  0.31  1.82] \n",
      " x: [2.31e+10 2.83e+10 2.54e+10 2.14e+10 2.65e+10]\n"
     ]
    }
   ],
   "source": [
    "# y is independent variables\n",
    "y = np.array(data[\"Change %\"].to_list())\n",
    "# x is dependent variables\n",
    "x = np.array(data.volume.to_list())\n",
    "print(\"y:\", y[0:5], \"\\n\", \"x:\", x[0:5])"
   ]
  },
  {
   "cell_type": "code",
   "execution_count": 4,
   "metadata": {},
   "outputs": [
    {
     "name": "stdout",
     "output_type": "stream",
     "text": [
      "                                 OLS Regression Results                                \n",
      "=======================================================================================\n",
      "Dep. Variable:                      y   R-squared (uncentered):                   0.012\n",
      "Model:                            OLS   Adj. R-squared (uncentered):              0.010\n",
      "Method:                 Least Squares   F-statistic:                              6.291\n",
      "Date:                Mon, 31 Jan 2022   Prob (F-statistic):                      0.0124\n",
      "Time:                        22:02:05   Log-Likelihood:                         -1003.2\n",
      "No. Observations:                 521   AIC:                                      2008.\n",
      "Df Residuals:                     520   BIC:                                      2013.\n",
      "Df Model:                           1                                                  \n",
      "Covariance Type:            nonrobust                                                  \n",
      "==============================================================================\n",
      "                 coef    std err          t      P>|t|      [0.025      0.975]\n",
      "------------------------------------------------------------------------------\n",
      "x1           5.24e-12   2.09e-12      2.508      0.012    1.14e-12    9.34e-12\n",
      "==============================================================================\n",
      "Omnibus:                      194.355   Durbin-Watson:                   1.995\n",
      "Prob(Omnibus):                  0.000   Jarque-Bera (JB):             1288.525\n",
      "Skew:                          -1.474   Prob(JB):                    1.59e-280\n",
      "Kurtosis:                      10.118   Cond. No.                         1.00\n",
      "==============================================================================\n",
      "\n",
      "Notes:\n",
      "[1] R² is computed without centering (uncentered) since the model does not contain a constant.\n",
      "[2] Standard Errors assume that the covariance matrix of the errors is correctly specified.\n"
     ]
    }
   ],
   "source": [
    "# for the next period prediction\n",
    "y_new = y[1:]\n",
    "x_new = x[:-1]\n",
    "\n",
    "# fitting the model\n",
    "result = sm.OLS(y_new, x_new).fit()\n",
    "  \n",
    "# printing the summary table\n",
    "print(result.summary())"
   ]
  },
  {
   "cell_type": "markdown",
   "metadata": {},
   "source": [
    "Although the variable x1 is acceptable looking at P-value, R^2 is too low to make a relationship up between x1 and y. This means momentum is not suitable on itself to predict next period price return."
   ]
  }
 ],
 "metadata": {
  "kernelspec": {
   "display_name": "Python 3",
   "language": "python",
   "name": "python3"
  },
  "language_info": {
   "codemirror_mode": {
    "name": "ipython",
    "version": 3
   },
   "file_extension": ".py",
   "mimetype": "text/x-python",
   "name": "python",
   "nbconvert_exporter": "python",
   "pygments_lexer": "ipython3",
   "version": "3.8.5"
  }
 },
 "nbformat": 4,
 "nbformat_minor": 4
}
